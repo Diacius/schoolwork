{
 "metadata": {
  "language_info": {
   "codemirror_mode": {
    "name": "ipython",
    "version": 3
   },
   "file_extension": ".py",
   "mimetype": "text/x-python",
   "name": "python",
   "nbconvert_exporter": "python",
   "pygments_lexer": "ipython3",
   "version": "3.8.5-final"
  },
  "orig_nbformat": 2,
  "kernelspec": {
   "name": "python3",
   "display_name": "Python 3.8.5 64-bit",
   "metadata": {
    "interpreter": {
     "hash": "1baa965d5efe3ac65b79dfc60c0d706280b1da80fedb7760faf2759126c4f253"
    }
   }
  }
 },
 "nbformat": 4,
 "nbformat_minor": 2,
 "cells": [
  {
   "source": [
    "# Python Challenges\n",
    "---\n",
    "Colorama is used to make terminal colour changes work on windows.\n"
   ],
   "cell_type": "markdown",
   "metadata": {}
  },
  {
   "cell_type": "code",
   "execution_count": 12,
   "metadata": {},
   "outputs": [
    {
     "output_type": "stream",
     "name": "stdout",
     "text": [
      "\u001b[34m Your age is: \u001b[32m8\n"
     ]
    }
   ],
   "source": [
    "# Challenge 1\n",
    "from colorama import Fore, Back, Style, init\n",
    "age = input(Fore.GREEN + \"What is your age\")\n",
    "print(f\"{Fore.BLUE} Your age is: {Fore.GREEN}{age}\")"
   ]
  },
  {
   "cell_type": "code",
   "execution_count": 13,
   "metadata": {},
   "outputs": [
    {
     "output_type": "stream",
     "name": "stdout",
     "text": [
      "\u001b[34m The mean average is: \u001b[32m40.5\n"
     ]
    }
   ],
   "source": [
    "# Challenge 2\n",
    "from colorama import Fore, Back, Style, init\n",
    "num1 = int(input(f\"What is the first number?\"))\n",
    "num2 = int(input(f\"What is the second number?\"))\n",
    "mean = (num1 + num2) / 2\n",
    "print(f\"{Fore.BLUE} The mean average is: {Fore.GREEN}{mean}\")"
   ]
  },
  {
   "cell_type": "code",
   "execution_count": 11,
   "metadata": {},
   "outputs": [
    {
     "output_type": "stream",
     "name": "stdout",
     "text": [
      "\u001b[34mThe area of the rectangle is: \u001b[32m72\n"
     ]
    }
   ],
   "source": [
    "# Challenge 3\n",
    "from colorama import Fore, Back, Style, init\n",
    "width = int(input(\"What is the width of the rectangle?\"))\n",
    "height = int(input(\"What is the height of the rectangle?\"))\n",
    "area = width * height\n",
    "print(f\"{Fore.BLUE}The area of the rectangle is: {Fore.GREEN}{area}\")"
   ]
  },
  {
   "cell_type": "code",
   "execution_count": 14,
   "metadata": {},
   "outputs": [
    {
     "output_type": "stream",
     "name": "stdout",
     "text": [
      "\u001b[34mThe result of the division is: \u001b[32m8.0\n"
     ]
    }
   ],
   "source": [
    "# Challenge 4\n",
    "from colorama import Fore, Back, Style, init\n",
    "num1 = int(input(f\"What is the first number?\"))\n",
    "num2 = int(input(f\"What is the second number?\"))\n",
    "result = num1 / num2\n",
    "print(f\"{Fore.BLUE}The result of the division is: {Fore.GREEN}{result}\")"
   ]
  },
  {
   "cell_type": "code",
   "execution_count": 15,
   "metadata": {},
   "outputs": [
    {
     "output_type": "stream",
     "name": "stdout",
     "text": [
      "I like Computing too George\n"
     ]
    }
   ],
   "source": [
    "# Challenge 5\n",
    "from colorama import Fore, Back, Style, init\n",
    "name = input(\"What is your name\")\n",
    "subject = input(f\"What is your favourite subject {name}\")\n",
    "print(f\"I like {subject} too {name}\")"
   ]
  },
  {
   "cell_type": "code",
   "execution_count": 17,
   "metadata": {},
   "outputs": [
    {
     "output_type": "stream",
     "name": "stdout",
     "text": [
      "You're cool, george\n"
     ]
    }
   ],
   "source": [
    "# Challenge 6\n",
    "name = input(\"What is your name?\")\n",
    "if name.lower() == \"george\":\n",
    "    print(f\"You're cool, {name}\")\n",
    "else:\n",
    "    print(f\"Nice to meet you {name}\")"
   ]
  },
  {
   "cell_type": "code",
   "execution_count": 20,
   "metadata": {},
   "outputs": [
    {
     "output_type": "stream",
     "name": "stdout",
     "text": [
      "That shouldn't rot your brain too much\n"
     ]
    }
   ],
   "source": [
    "# Challenge 7\n",
    "tv = int(input(\"How long do you spend watching tv every day on average in hours?\"))\n",
    "if tv < 2 :\n",
    "    print(\"That shouldn't rot your brain too much\")\n",
    "elif tv < 4:\n",
    "    print(\"Aren't you getting square eyes?\")\n",
    "else:\n",
    "    print(\"Touch grass\")"
   ]
  },
  {
   "cell_type": "code",
   "execution_count": 26,
   "metadata": {},
   "outputs": [
    {
     "output_type": "stream",
     "name": "stdout",
     "text": [
      "A\n"
     ]
    }
   ],
   "source": [
    "# Challenge 8\n",
    "marks = int(input(\"What mark\"))\n",
    "while True:\n",
    "    if marks >= 75:\n",
    "        print(\"A\")\n",
    "        break\n",
    "    if marks >= 60:\n",
    "        print(\"B\")\n",
    "        break\n",
    "    if marks >= 35:\n",
    "        print(\"C\")\n",
    "        break\n",
    "    else:\n",
    "        print(\"D\")\n",
    "        break"
   ]
  },
  {
   "cell_type": "code",
   "execution_count": 27,
   "metadata": {},
   "outputs": [
    {
     "output_type": "stream",
     "name": "stdout",
     "text": [
      "That is correct\n"
     ]
    }
   ],
   "source": [
    "# Challenge 9\n",
    "a = input(\"enter olympic value\")\n",
    "if a == \"Respect\" or a == \"Excellence\" or a == \"Friendship\":\n",
    "    print(\"That is correct\")\n",
    "else:\n",
    "    print(\"Try again\")"
   ]
  },
  {
   "cell_type": "code",
   "execution_count": 39,
   "metadata": {},
   "outputs": [
    {
     "output_type": "stream",
     "name": "stdout",
     "text": [
      "scissors\n"
     ]
    }
   ],
   "source": [
    "# Challenge 10\n",
    "import random\n",
    "choices = [\"rock\", \"paper\", \"scissors\"]\n",
    "computerChoice = choices[random.randint(0,2)]\n",
    "computerChoice = computerChoice #sets value properly\n",
    "userChoice = input(\"Choose rock, paper, scissors\")\n",
    "print(f\"Computer chose {computerChoice} you chose {userChoice}\")\n",
    "if computerChoice == userChoice:\n",
    "    print(\"Draw\")"
   ]
  },
  {
   "cell_type": "code",
   "execution_count": null,
   "metadata": {},
   "outputs": [],
   "source": []
  }
 ]
}