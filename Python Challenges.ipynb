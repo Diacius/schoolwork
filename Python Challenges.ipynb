{
 "cells": [
  {
   "cell_type": "markdown",
   "metadata": {},
   "source": [
    "# Python Challenges\n",
    "---\n",
    "Colorama is used to make terminal colour changes work on windows.\n\n This is from Y9"
   ]
  },
  {
   "cell_type": "code",
   "execution_count": 3,
   "metadata": {},
   "outputs": [
    {
     "name": "stdout",
     "output_type": "stream",
     "text": [
      "\u001b[34m Your age is: \u001b[32m\n"
     ]
    }
   ],
   "source": [
    "# Challenge 1\n",
    "from colorama import Fore, Back, Style, init\n",
    "age = input(Fore.GREEN + \"What is your age\")\n",
    "print(f\"{Fore.BLUE} Your age is: {Fore.GREEN}{age}\")"
   ]
  },
  {
   "cell_type": "code",
   "execution_count": 4,
   "metadata": {},
   "outputs": [
    {
     "ename": "ValueError",
     "evalue": "invalid literal for int() with base 10: ''",
     "output_type": "error",
     "traceback": [
      "\u001b[1;31m---------------------------------------------------------------------------\u001b[0m",
      "\u001b[1;31mValueError\u001b[0m                                Traceback (most recent call last)",
      "\u001b[1;32m~\\AppData\\Local\\Temp/ipykernel_12152/2177578073.py\u001b[0m in \u001b[0;36m<module>\u001b[1;34m\u001b[0m\n\u001b[0;32m      1\u001b[0m \u001b[1;31m# Challenge 2\u001b[0m\u001b[1;33m\u001b[0m\u001b[1;33m\u001b[0m\u001b[1;33m\u001b[0m\u001b[0m\n\u001b[0;32m      2\u001b[0m \u001b[1;32mfrom\u001b[0m \u001b[0mcolorama\u001b[0m \u001b[1;32mimport\u001b[0m \u001b[0mFore\u001b[0m\u001b[1;33m,\u001b[0m \u001b[0mBack\u001b[0m\u001b[1;33m,\u001b[0m \u001b[0mStyle\u001b[0m\u001b[1;33m,\u001b[0m \u001b[0minit\u001b[0m\u001b[1;33m\u001b[0m\u001b[1;33m\u001b[0m\u001b[0m\n\u001b[1;32m----> 3\u001b[1;33m \u001b[0mnum1\u001b[0m \u001b[1;33m=\u001b[0m \u001b[0mint\u001b[0m\u001b[1;33m(\u001b[0m\u001b[0minput\u001b[0m\u001b[1;33m(\u001b[0m\u001b[1;34mf\"What is the first number?\"\u001b[0m\u001b[1;33m)\u001b[0m\u001b[1;33m)\u001b[0m\u001b[1;33m\u001b[0m\u001b[1;33m\u001b[0m\u001b[0m\n\u001b[0m\u001b[0;32m      4\u001b[0m \u001b[0mnum2\u001b[0m \u001b[1;33m=\u001b[0m \u001b[0mint\u001b[0m\u001b[1;33m(\u001b[0m\u001b[0minput\u001b[0m\u001b[1;33m(\u001b[0m\u001b[1;34mf\"What is the second number?\"\u001b[0m\u001b[1;33m)\u001b[0m\u001b[1;33m)\u001b[0m\u001b[1;33m\u001b[0m\u001b[1;33m\u001b[0m\u001b[0m\n\u001b[0;32m      5\u001b[0m \u001b[0mmean\u001b[0m \u001b[1;33m=\u001b[0m \u001b[1;33m(\u001b[0m\u001b[0mnum1\u001b[0m \u001b[1;33m+\u001b[0m \u001b[0mnum2\u001b[0m\u001b[1;33m)\u001b[0m \u001b[1;33m/\u001b[0m \u001b[1;36m2\u001b[0m\u001b[1;33m\u001b[0m\u001b[1;33m\u001b[0m\u001b[0m\n",
      "\u001b[1;31mValueError\u001b[0m: invalid literal for int() with base 10: ''"
     ]
    }
   ],
   "source": [
    "# Challenge 2\n",
    "from colorama import Fore, Back, Style, init\n",
    "num1 = int(input(f\"What is the first number?\"))\n",
    "num2 = int(input(f\"What is the second number?\"))\n",
    "mean = (num1 + num2) / 2\n",
    "print(f\"{Fore.BLUE} The mean average is: {Fore.GREEN}{mean}\")"
   ]
  },
  {
   "cell_type": "code",
   "execution_count": null,
   "metadata": {},
   "outputs": [
    {
     "name": "stdout",
     "output_type": "stream",
     "text": [
      "\u001b[34mThe area of the rectangle is: \u001b[32m72\n"
     ]
    }
   ],
   "source": [
    "# Challenge 3\n",
    "from colorama import Fore, Back, Style, init\n",
    "width = int(input(\"What is the width of the rectangle?\"))\n",
    "height = int(input(\"What is the height of the rectangle?\"))\n",
    "area = width * height\n",
    "print(f\"{Fore.BLUE}The area of the rectangle is: {Fore.GREEN}{area}\")"
   ]
  },
  {
   "cell_type": "code",
   "execution_count": null,
   "metadata": {},
   "outputs": [
    {
     "name": "stdout",
     "output_type": "stream",
     "text": [
      "\u001b[34mThe result of the division is: \u001b[32m8.0\n"
     ]
    }
   ],
   "source": [
    "# Challenge 4\n",
    "from colorama import Fore, Back, Style, init\n",
    "num1 = int(input(f\"What is the first number?\"))\n",
    "num2 = int(input(f\"What is the second number?\"))\n",
    "result = num1 / num2\n",
    "print(f\"{Fore.BLUE}The result of the division is: {Fore.GREEN}{result}\")"
   ]
  },
  {
   "cell_type": "code",
   "execution_count": null,
   "metadata": {},
   "outputs": [
    {
     "name": "stdout",
     "output_type": "stream",
     "text": [
      "I like Computing too George\n"
     ]
    }
   ],
   "source": [
    "# Challenge 5\n",
    "from colorama import Fore, Back, Style, init\n",
    "name = input(\"What is your name\")\n",
    "subject = input(f\"What is your favourite subject {name}\")\n",
    "print(f\"I like {subject} too {name}\")"
   ]
  },
  {
   "cell_type": "code",
   "execution_count": null,
   "metadata": {},
   "outputs": [
    {
     "name": "stdout",
     "output_type": "stream",
     "text": [
      "You're cool, george\n"
     ]
    }
   ],
   "source": [
    "# Challenge 6\n",
    "name = input(\"What is your name?\")\n",
    "if name.lower() == \"george\":\n",
    "    print(f\"You're cool, {name}\")\n",
    "else:\n",
    "    print(f\"Nice to meet you {name}\")"
   ]
  },
  {
   "cell_type": "code",
   "execution_count": null,
   "metadata": {},
   "outputs": [
    {
     "name": "stdout",
     "output_type": "stream",
     "text": [
      "That shouldn't rot your brain too much\n"
     ]
    }
   ],
   "source": [
    "# Challenge 7\n",
    "tv = int(input(\"How long do you spend watching tv every day on average in hours?\"))\n",
    "if tv < 2 :\n",
    "    print(\"That shouldn't rot your brain too much\")\n",
    "elif tv < 4:\n",
    "    print(\"Aren't you getting square eyes?\")\n",
    "else:\n",
    "    print(\"Touch grass\")"
   ]
  },
  {
   "cell_type": "code",
   "execution_count": null,
   "metadata": {},
   "outputs": [
    {
     "name": "stdout",
     "output_type": "stream",
     "text": [
      "A\n"
     ]
    }
   ],
   "source": [
    "# Challenge 8\n",
    "marks = int(input(\"What mark\"))\n",
    "while True:\n",
    "    if marks >= 75:\n",
    "        print(\"A\")\n",
    "        break\n",
    "    if marks >= 60:\n",
    "        print(\"B\")\n",
    "        break\n",
    "    if marks >= 35:\n",
    "        print(\"C\")\n",
    "        break\n",
    "    else:\n",
    "        print(\"D\")\n",
    "        break"
   ]
  },
  {
   "cell_type": "code",
   "execution_count": null,
   "metadata": {},
   "outputs": [
    {
     "name": "stdout",
     "output_type": "stream",
     "text": [
      "That is correct\n"
     ]
    }
   ],
   "source": [
    "# Challenge 9\n",
    "a = input(\"enter olympic value\")\n",
    "if a == \"Respect\" or a == \"Excellence\" or a == \"Friendship\":\n",
    "    print(\"That is correct\")\n",
    "else:\n",
    "    print(\"Try again\")"
   ]
  },
  {
   "cell_type": "code",
   "execution_count": null,
   "metadata": {},
   "outputs": [
    {
     "name": "stdout",
     "output_type": "stream",
     "text": [
      "scissors\n"
     ]
    }
   ],
   "source": [
    "# Challenge 10\n",
    "import random\n",
    "choices = [\"rock\", \"paper\", \"scissors\"]\n",
    "computerChoice = choices[random.randint(0,2)]\n",
    "computerChoice = computerChoice #sets value properly\n",
    "userChoice = input(\"Choose rock, paper, scissors\")\n",
    "print(f\"Computer chose {computerChoice} you chose {userChoice}\")\n",
    "if computerChoice == userChoice:\n",
    "    print(\"Draw\")\n"
   ]
  },
  {
   "cell_type": "code",
   "execution_count": null,
   "metadata": {},
   "outputs": [],
   "source": [
    "# Challenge 15\n",
    "sentence = input(\"Enter a sentence\").lower()\n",
    "print(sentence)"
   ]
  },
  {
   "cell_type": "code",
   "execution_count": null,
   "metadata": {},
   "outputs": [],
   "source": [
    "# Challenge 16\n",
    "for i in range(10):\n",
    "    print(i+1)"
   ]
  },
  {
   "cell_type": "code",
   "execution_count": null,
   "metadata": {},
   "outputs": [],
   "source": [
    "# Challenge 17\n",
    "for i in range(1,100,2):\n",
    "    print(i)\n",
    "    i =+ 1"
   ]
  },
  {
   "cell_type": "code",
   "execution_count": null,
   "metadata": {},
   "outputs": [],
   "source": [
    "# Challenge 18\n",
    "userNumber = int(input(\"Enter a number mere mortal\"))\n",
    "for i in range(12):\n",
    "    print(userNumber * (i+1))"
   ]
  },
  {
   "cell_type": "code",
   "execution_count": null,
   "metadata": {},
   "outputs": [],
   "source": [
    "# Challenge 19\n",
    "while True:\n",
    "    userNumber = int(input(\"Enter a number mere mortal\"))\n",
    "    for i in range(12):\n",
    "        print(userNumber * (i+1))"
   ]
  },
  {
   "cell_type": "code",
   "execution_count": 16,
   "metadata": {},
   "outputs": [
    {
     "name": "stdout",
     "output_type": "stream",
     "text": [
      "WELL DONE\n"
     ]
    }
   ],
   "source": [
    "# Challenge 20\n",
    "while True:\n",
    "    user = int(input(\"Enter a number\"))\n",
    "    if user == 7:\n",
    "        print(\"WELL DONE\")\n",
    "        break"
   ]
  },
  {
   "cell_type": "code",
   "execution_count": 23,
   "metadata": {},
   "outputs": [],
   "source": [
    "# Challenge 30\n",
    "import random\n",
    "# Generate Numbers\n",
    "def generate():\n",
    "    num1 = random.randint(1,12)\n",
    "    num2 = random.randint(1,12)\n",
    "    print(num1)\n",
    "    print(num1)\n",
    "\n",
    "\n"
   ]
  }
 ],
 "metadata": {
  "kernelspec": {
   "display_name": "Python 3.8.5 64-bit",
   "metadata": {
    "interpreter": {
     "hash": "1baa965d5efe3ac65b79dfc60c0d706280b1da80fedb7760faf2759126c4f253"
    }
   },
   "name": "python3"
  },
  "language_info": {
   "codemirror_mode": {
    "name": "ipython",
    "version": 3
   },
   "file_extension": ".py",
   "mimetype": "text/x-python",
   "name": "python",
   "nbconvert_exporter": "python",
   "pygments_lexer": "ipython3",
   "version": "3.8.5"
  },
  "orig_nbformat": 2
 },
 "nbformat": 4,
 "nbformat_minor": 2
}
