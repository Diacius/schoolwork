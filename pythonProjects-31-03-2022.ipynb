{
 "cells": [
  {
   "cell_type": "code",
   "execution_count": 5,
   "metadata": {},
   "outputs": [
    {
     "name": "stdout",
     "output_type": "stream",
     "text": [
      "\u001b[34mThe sentance was\n",
      "\u001b[31mHere is why the flobgogabglab is our lord and saviour, and why you should worship him.\u001b[39m\n",
      "\u001b[32m25 vowels in this sentence\u001b[39m\n"
     ]
    }
   ],
   "source": [
    "# Count the vowels\n",
    "from colorama import Fore, Back, Style\n",
    "vowels = \"aeiouAEIOU\"\n",
    "vowel_count = 0\n",
    "sentence = input(\"Enter a sentence:\")\n",
    "for character in sentence:\n",
    "    if character in vowels:\n",
    "        vowel_count = vowel_count + 1\n",
    "print(f\"{Fore.BLUE}The sentance was\\n{Fore.RED}{sentence}{Fore.RESET}\")\n",
    "print(f\"{Fore.GREEN}{vowel_count} vowels in this sentence{Fore.RESET}\")\n"
   ]
  },
  {
   "cell_type": "code",
   "execution_count": 11,
   "metadata": {},
   "outputs": [
    {
     "name": "stdout",
     "output_type": "stream",
     "text": [
      "\u001b[32mEnter a number:\u001b[39m\n",
      "295028509552509238953\n",
      "\u001b[34mSum of digits in 295028509552509238953 is 96\n"
     ]
    }
   ],
   "source": [
    "# Sum the didgits\n",
    "from colorama import Fore, Back, Style\n",
    "sum = 0\n",
    "print(f\"{Fore.GREEN}Enter a number:{Fore.RESET}\")\n",
    "number = input()\n",
    "print(number)\n",
    "for digit in number :\n",
    "    digit = int(digit)\n",
    "    sum = sum + digit\n",
    "print(f\"{Fore.BLUE}Sum of digits in\", number, \"is\", sum)\n",
    "\n",
    "\n",
    "\n",
    "\n"
   ]
  },
  {
   "cell_type": "code",
   "execution_count": 23,
   "metadata": {},
   "outputs": [
    {
     "name": "stdout",
     "output_type": "stream",
     "text": [
      "\u001b[32m✔ Password has at least 8 chars\n",
      "\u001b[32m✔ Password has upper and lower case\n",
      "\u001b[32m✔ Password has at least one digit\n",
      "\u001b[32m✔ Password has at least one symbol\n"
     ]
    }
   ],
   "source": [
    "#Password Checker\n",
    "import string\n",
    "from colorama import Fore, Back, Style\n",
    "password = input(f\"{Fore.BLUE}Please enter a password\")\n",
    "hasdigit = 0\n",
    "hassymbol = 0\n",
    "\n",
    "#CONFIG\n",
    "\n",
    "if len(password) >= 8:\n",
    "    print(f\"{Fore.GREEN}✔ Password has at least 8 chars\")\n",
    "else:\n",
    "    print(f\"{Fore.RED}✖ Not enough chars\")\n",
    "if password.lower() != password and password.upper() != password:\n",
    "    print(f\"{Fore.GREEN}✔ Password has upper and lower case\")\n",
    "else:\n",
    "    print(f\"{Fore.RED}✖ Password needs upper and lower\")\n",
    "for charachter in password:\n",
    "    if charachter in string.digits:\n",
    "        hasdigit = 1\n",
    "if hasdigit >= 1:\n",
    "    print(f\"{Fore.GREEN}✔ Password has at least one digit\")\n",
    "else:\n",
    "    print(f\"{Fore.RED}✖ Password has no numbers\")\n",
    "for charachter in password:\n",
    "    if charachter in string.punctuation or charachter in \"!£$%^&*()_+¬`¦\":\n",
    "        hassymbol = 1\n",
    "if hassymbol >= 1:\n",
    "    print(f\"{Fore.GREEN}✔ Password has at least one symbol\")\n",
    "else:\n",
    "    print(f\"{Fore.RED}✖ Password needs a symbol\")"
   ]
  },
  {
   "cell_type": "code",
   "execution_count": null,
   "metadata": {},
   "outputs": [],
   "source": [
    "# ISBN Verify\n",
    "from colorama import Fore, Back, Style\n",
    "testISBN = 9781118751251\n",
    "userISBN = input(f\"{Fore.BLUE}Enter ISBN\")\n"
   ]
  }
 ],
 "metadata": {
  "interpreter": {
   "hash": "1baa965d5efe3ac65b79dfc60c0d706280b1da80fedb7760faf2759126c4f253"
  },
  "kernelspec": {
   "display_name": "Python 3.8.5 64-bit (system)",
   "language": "python",
   "name": "python3"
  },
  "language_info": {
   "codemirror_mode": {
    "name": "ipython",
    "version": 3
   },
   "file_extension": ".py",
   "mimetype": "text/x-python",
   "name": "python",
   "nbconvert_exporter": "python",
   "pygments_lexer": "ipython3",
   "version": "3.8.5"
  },
  "orig_nbformat": 4
 },
 "nbformat": 4,
 "nbformat_minor": 2
}
