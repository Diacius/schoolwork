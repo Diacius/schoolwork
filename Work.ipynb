{
 "metadata": {
  "language_info": {
   "codemirror_mode": {
    "name": "ipython",
    "version": 3
   },
   "file_extension": ".py",
   "mimetype": "text/x-python",
   "name": "python",
   "nbconvert_exporter": "python",
   "pygments_lexer": "ipython3",
   "version": "3.8.5-final"
  },
  "orig_nbformat": 2,
  "kernelspec": {
   "name": "python3",
   "display_name": "Python 3.8.5 64-bit",
   "metadata": {
    "interpreter": {
     "hash": "1baa965d5efe3ac65b79dfc60c0d706280b1da80fedb7760faf2759126c4f253"
    }
   }
  }
 },
 "nbformat": 4,
 "nbformat_minor": 2,
 "cells": [
  {
   "source": [
    "# Python Schoolwork from 2021-2022\n",
    "## TODO: Merge all other files here"
   ],
   "cell_type": "markdown",
   "metadata": {}
  },
  {
   "cell_type": "code",
   "execution_count": 5,
   "metadata": {},
   "outputs": [
    {
     "output_type": "stream",
     "name": "stdout",
     "text": [
      "Here's your number idiot\nresult is 34411\n"
     ]
    }
   ],
   "source": [
    "try:\n",
    "    num1 = int(input(\"Enter a number dufus\"))\n",
    "    num2 = int(input(\"Enter a number dufus\"))\n",
    "except ValueError or TypeError:\n",
    "    print(\"Enter an ACTUAL number dufus.\")\n",
    "\n",
    "result = num1 + num2\n",
    "print(\"Here's your number idiot\")\n",
    "print(f\"Result is {result}\")"
   ]
  },
  {
   "cell_type": "code",
   "execution_count": null,
   "metadata": {},
   "outputs": [],
   "source": [
    "operation = input(\"enter a operation\")\n",
    "try:\n",
    "    num1 = int(input(\"Enter a number dufus\"))\n",
    "    num2 = int(input(\"Enter a number dufus\"))\n",
    "except ValueError or TypeError:\n",
    "    print(\"Enter an ACTUAL number dufus.\")\n",
    "if operation = \"times\" or \"x\":\n",
    "    num1 + num2"
   ]
  },
  {
   "source": [
    "# Brackets\n",
    "Brackets\n",
    "Copyright 2021 George Prime\n",
    "Adds numbers in brackets and then multiply\n",
    "---\n",
    "\n",
    "num1 = int(input(\"1st num in brackets\"))\n",
    "num2 = int(input(\"2nd num in brackets\"))\n",
    "num3 = int(input(\"multiply by\"))\n",
    "print((num1+num2)*num3)\n"
   ],
   "cell_type": "code",
   "metadata": {},
   "execution_count": null,
   "outputs": []
  },
  {
   "source": [
    "from colorama import init\n",
    "try:\n",
    "    userAge1 = int(input(\"User 1 How old are you?\"))\n",
    "    userAge2 = int(input(\"User 2 How old are you?\"))\n",
    "except ValueError:\n",
    "    print(\"That is not a number. Unless your an alien your age should be a number 🤣\")\n",
    "    quit()\n",
    "if userAge1 > userAge2 :\n",
    "    print(f\"\\033[2;31m User 1 is {userAge1} and user 2 is {userAge2}. User 1 is older than User2\")\n",
    "if userAge1 < userAge2 :\n",
    "    print(f\"User 1 is {userAge1} and user 2 is {userAge2}. User 1 is younger than User2\")\n"
   ],
   "cell_type": "code",
   "metadata": {},
   "execution_count": 7,
   "outputs": [
    {
     "output_type": "stream",
     "name": "stdout",
     "text": [
      "That is not a number. Unless your an alien your age should be a number 🤣\n\u001b[2;31m User 1 is 4 and user 2 is 2. User 1 is older than User2\n"
     ]
    }
   ]
  },
  {
   "cell_type": "code",
   "execution_count": 1,
   "metadata": {},
   "outputs": [
    {
     "output_type": "stream",
     "name": "stdout",
     "text": [
      "iTs sO hOt. hOw ArE yOu nOt dEAd\n"
     ]
    }
   ],
   "source": [
    "celsius = int(input(\"temp?\"))\n",
    "\n",
    "if celsius > 90:\n",
    "    print(\"iTs sO hOt! hOw ArE yOu nOt dEAd?!\")\n",
    "else:\n",
    "    print(\"it might be hot, but you have a chance of not dying so thats good ig\")"
   ]
  },
  {
   "cell_type": "code",
   "execution_count": 21,
   "metadata": {},
   "outputs": [
    {
     "output_type": "stream",
     "name": "stdout",
     "text": [
      "1 times 7 is7\n2 times 7 is14\n3 times 7 is21\n4 times 7 is28\n5 times 7 is35\n6 times 7 is42\n7 times 7 is49\n8 times 7 is56\n9 times 7 is63\n10 times 7 is70\n11 times 7 is77\n12 times 7 is84\n"
     ]
    }
   ],
   "source": [
    "# 15/12/2021 - Iteration\n",
    "for i in range(12):\n",
    "    print(f\"{i+1} times 7 is\" + str(i*7+7))"
   ]
  },
  {
   "cell_type": "code",
   "execution_count": 6,
   "metadata": {},
   "outputs": [
    {
     "output_type": "stream",
     "name": "stdout",
     "text": [
      "u r dumb. Try again dufus\n",
      "8\n",
      "u r dumb. Try again dufus\n",
      "8\n",
      "WoW yOu cAN gUeSS the number was 8\n",
      "Well done you guessed it in 3 tries\n"
     ]
    }
   ],
   "source": [
    "import random\n",
    "currentNumber = random.randint(1,10)\n",
    "\n",
    "for i in range(3):\n",
    "    guess = int(input(\"Guess the number\"))\n",
    "    if guess == currentNumber:\n",
    "        print(f\"WoW yOu cAN gUeSS the number was {currentNumber}\")\n",
    "        break\n",
    "    else:\n",
    "        print(\"u r dumb. Try again dufus\")\n",
    "        print(currentNumber)\n",
    "if guess == currentNumber:\n",
    "    print(f\"Well done you guessed it in {i+1}/3 tries\")\n",
    "elif guess != currentNumber:\n",
    "    print(\"U DUMB\")\n",
    "else:\n",
    "    print(\"error\")\n"
   ]
  },
  {
   "cell_type": "code",
   "execution_count": null,
   "metadata": {},
   "outputs": [],
   "source": []
  }
 ]
}